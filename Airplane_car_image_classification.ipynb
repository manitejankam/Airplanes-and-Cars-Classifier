{
 "cells": [
  {
   "cell_type": "code",
   "execution_count": 1,
   "metadata": {},
   "outputs": [
    {
     "name": "stderr",
     "output_type": "stream",
     "text": [
      "D:\\Anaconda\\lib\\site-packages\\h5py\\__init__.py:34: FutureWarning: Conversion of the second argument of issubdtype from `float` to `np.floating` is deprecated. In future, it will be treated as `np.float64 == np.dtype(float).type`.\n",
      "  from ._conv import register_converters as _register_converters\n",
      "Using TensorFlow backend.\n"
     ]
    }
   ],
   "source": [
    "import numpy as np\n",
    "import keras\n",
    "from keras import backend as K\n",
    "from keras.models import Sequential\n",
    "from keras.layers import Activation\n",
    "from keras.layers import GlobalAveragePooling2D\n",
    "from keras.layers import MaxPooling2D\n",
    "from keras.layers.core import Dense, Flatten\n",
    "from keras.optimizers import Adam\n",
    "from keras.metrics import categorical_crossentropy\n",
    "from keras.preprocessing.image import ImageDataGenerator\n",
    "from keras.layers.normalization import BatchNormalization\n",
    "from keras.layers.convolutional import *"
   ]
  },
  {
   "cell_type": "code",
   "execution_count": 2,
   "metadata": {
    "collapsed": true
   },
   "outputs": [],
   "source": [
    "train_path = 'D:\\\\Airplane_car_data\\\\train_data'\n",
    "valid_path = 'D:\\\\Airplane_car_data\\\\valid_data'\n",
    "test_path = 'D:\\\\Airplane_car_data\\\\test_data'"
   ]
  },
  {
   "cell_type": "code",
   "execution_count": 3,
   "metadata": {},
   "outputs": [
    {
     "name": "stdout",
     "output_type": "stream",
     "text": [
      "Found 28 images belonging to 2 classes.\n",
      "Found 8 images belonging to 2 classes.\n",
      "Found 4 images belonging to 2 classes.\n"
     ]
    }
   ],
   "source": [
    "train_batches = ImageDataGenerator().flow_from_directory(train_path, target_size=(224, 224), classes=[\"Airplane\", \"Car\"], batch_size=5)\n",
    "valid_batches = ImageDataGenerator().flow_from_directory(valid_path, target_size=(224, 224), classes=[\"Airplane\", \"Car\"], batch_size=2)\n",
    "test_batches = ImageDataGenerator().flow_from_directory(test_path, target_size=(224, 224), classes=[\"Airplane\", \"Car\"], batch_size=1)"
   ]
  },
  {
   "cell_type": "code",
   "execution_count": 10,
   "metadata": {
    "collapsed": true
   },
   "outputs": [],
   "source": [
    "model = Sequential([\n",
    "            Conv2D(32, (5, 5), activation=\"relu\", input_shape=(224, 224, 1), padding='SAME'),\n",
    "            BatchNormalization(),\n",
    "            MaxPooling2D(pool_size=(2, 2), strides=2),\n",
    "            Conv2D(32, (5, 5), activation=\"relu\", padding='SAME'),\n",
    "            BatchNormalization(),\n",
    "            MaxPooling2D(pool_size=(2, 2), strides=2),\n",
    "            Flatten(),\n",
    "            Dense(2, activation=\"softmax\"),\n",
    "        ])"
   ]
  },
  {
   "cell_type": "code",
   "execution_count": 16,
   "metadata": {
    "collapsed": true
   },
   "outputs": [],
   "source": [
    "model.compile(Adam(lr=0.0001), loss=\"categorical_crossentropy\", metrics=[\"accuracy\"])"
   ]
  },
  {
   "cell_type": "code",
   "execution_count": 17,
   "metadata": {
    "scrolled": false
   },
   "outputs": [
    {
     "name": "stdout",
     "output_type": "stream",
     "text": [
      "Epoch 1/10\n",
      "10/10 [==============================] - 31s 3s/step - loss: 4.2716 - acc: 0.7189 - val_loss: 10.0738 - val_acc: 0.3750\n",
      "Epoch 2/10\n",
      "10/10 [==============================] - 28s 3s/step - loss: 3.2503 - acc: 0.7984 - val_loss: 6.0443 - val_acc: 0.6250\n",
      "Epoch 3/10\n",
      "10/10 [==============================] - 28s 3s/step - loss: 3.4445 - acc: 0.7863 - val_loss: 8.0590 - val_acc: 0.5000\n",
      "Epoch 4/10\n",
      "10/10 [==============================] - 29s 3s/step - loss: 4.5302 - acc: 0.7189 - val_loss: 8.0590 - val_acc: 0.5000\n",
      "Epoch 5/10\n",
      "10/10 [==============================] - 28s 3s/step - loss: 4.2122 - acc: 0.7339 - val_loss: 6.0443 - val_acc: 0.6250\n",
      "Epoch 6/10\n",
      "10/10 [==============================] - 28s 3s/step - loss: 4.2897 - acc: 0.7339 - val_loss: 12.0886 - val_acc: 0.2500\n",
      "Epoch 7/10\n",
      "10/10 [==============================] - 29s 3s/step - loss: 4.5302 - acc: 0.7189 - val_loss: 6.0443 - val_acc: 0.6250\n",
      "Epoch 8/10\n",
      "10/10 [==============================] - 28s 3s/step - loss: 2.9838 - acc: 0.8065 - val_loss: 6.0443 - val_acc: 0.6250\n",
      "Epoch 9/10\n",
      "10/10 [==============================] - 28s 3s/step - loss: 3.2578 - acc: 0.7984 - val_loss: 10.0738 - val_acc: 0.3750\n",
      "Epoch 10/10\n",
      "10/10 [==============================] - 29s 3s/step - loss: 4.9566 - acc: 0.6867 - val_loss: 8.0590 - val_acc: 0.5000\n"
     ]
    },
    {
     "data": {
      "text/plain": [
       "<keras.callbacks.History at 0x28d343b5ba8>"
      ]
     },
     "execution_count": 17,
     "metadata": {},
     "output_type": "execute_result"
    }
   ],
   "source": [
    "model.fit_generator(train_batches, steps_per_epoch=10, validation_data=valid_batches, validation_steps=4, epochs=10, verbose=1)"
   ]
  },
  {
   "cell_type": "code",
   "execution_count": 18,
   "metadata": {
    "collapsed": true
   },
   "outputs": [],
   "source": [
    "test_imgs, test_labels = next(test_batches)"
   ]
  },
  {
   "cell_type": "code",
   "execution_count": 14,
   "metadata": {},
   "outputs": [
    {
     "name": "stdout",
     "output_type": "stream",
     "text": [
      "4/4 [==============================] - 1s 223ms/step\n"
     ]
    }
   ],
   "source": [
    "predictions= model.predict_generator(test_batches, steps=4, verbose=1)"
   ]
  },
  {
   "cell_type": "code",
   "execution_count": 15,
   "metadata": {},
   "outputs": [
    {
     "data": {
      "text/plain": [
       "array([[0., 1.],\n",
       "       [1., 0.],\n",
       "       [0., 1.],\n",
       "       [1., 0.]], dtype=float32)"
      ]
     },
     "execution_count": 15,
     "metadata": {},
     "output_type": "execute_result"
    }
   ],
   "source": [
    "predictions"
   ]
  },
  {
   "cell_type": "code",
   "execution_count": null,
   "metadata": {
    "collapsed": true
   },
   "outputs": [],
   "source": []
  },
  {
   "cell_type": "code",
   "execution_count": null,
   "metadata": {
    "collapsed": true
   },
   "outputs": [],
   "source": []
  }
 ],
 "metadata": {
  "kernelspec": {
   "display_name": "Python 3",
   "language": "python",
   "name": "python3"
  },
  "language_info": {
   "codemirror_mode": {
    "name": "ipython",
    "version": 3
   },
   "file_extension": ".py",
   "mimetype": "text/x-python",
   "name": "python",
   "nbconvert_exporter": "python",
   "pygments_lexer": "ipython3",
   "version": "3.6.3"
  }
 },
 "nbformat": 4,
 "nbformat_minor": 2
}
